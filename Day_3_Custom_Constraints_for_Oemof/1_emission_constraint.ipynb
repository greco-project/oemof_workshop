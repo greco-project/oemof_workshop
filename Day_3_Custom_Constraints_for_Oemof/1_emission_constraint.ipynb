{
 "cells": [
  {
   "cell_type": "markdown",
   "metadata": {},
   "source": [
    "# An integrated oemof constraint: Emission limit\n",
    "As emissions are often to be limited, a constraint limiting the energy systems emissions has been introduced as an oemof feature.\n",
    "\n",
    "This example is taken from git: /oemof/oemof-examples-master/oemof_examples/oemof.solph/v0.3.x/emission_constraint/emission_constraint.py"
   ]
  },
  {
   "cell_type": "markdown",
   "metadata": {},
   "source": [
    "All necessary packages are imported:"
   ]
  },
  {
   "cell_type": "code",
   "execution_count": 1,
   "metadata": {},
   "outputs": [],
   "source": [
    "import pandas as pd\n",
    "\n",
    "import oemof.solph as solph\n",
    "from oemof.solph import constraints"
   ]
  },
  {
   "cell_type": "markdown",
   "metadata": {},
   "source": [
    "Basic definition of energy system model and buses of the energy system:"
   ]
  },
  {
   "cell_type": "code",
   "execution_count": 2,
   "metadata": {},
   "outputs": [],
   "source": [
    "energysystem = solph.EnergySystem(\n",
    "                    timeindex=pd.date_range('1/1/2012', periods=3, freq='H'))\n",
    "\n",
    "bgas = solph.Bus(label=\"gas\")\n",
    "\n",
    "bel = solph.Bus(label=\"electricity\", balanced=False)\n",
    "\n",
    "energysystem.add(bel, bgas)"
   ]
  },
  {
   "cell_type": "markdown",
   "metadata": {},
   "source": [
    "Now, all components to which emissions are connected are added to the energy system with a specific \"emission factor\":"
   ]
  },
  {
   "cell_type": "code",
   "execution_count": 3,
   "metadata": {},
   "outputs": [],
   "source": [
    "energysystem.add(solph.Sink(label='demand',\n",
    "                              inputs={\n",
    "                                bel: solph.Flow(actual_value=[10, 20, 30],\n",
    "                                                fixed=True)}))\n",
    "\n",
    "energysystem.add(solph.Source(label='biomass',\n",
    "                              outputs={\n",
    "                                bel: solph.Flow(nominal_value=100,\n",
    "                                                variable_costs=10,\n",
    "                                                emission_factor=0.01,\n",
    "                                                actual_value=[0.1, 0.2, 0.3],\n",
    "                                                fixed=True)}))\n",
    "\n",
    "energysystem.add(solph.Source(label='gas-source',\n",
    "                              outputs={\n",
    "                                bel: solph.Flow(variable_costs=10,\n",
    "                                                emission_factor=0.2)}))\n",
    "\n",
    "energysystem.add(solph.Transformer(\n",
    "    label=\"pp_gas\",\n",
    "    inputs={\n",
    "        bgas: solph.Flow()},\n",
    "    outputs={\n",
    "        bel: solph.Flow(nominal_value=200)},\n",
    "    conversion_factors={\n",
    "        bel: 0.58}))"
   ]
  },
  {
   "cell_type": "markdown",
   "metadata": {},
   "source": [
    "When all components are added, the energy system model is generated with oemof, using pyomo. This creates all linear equations describing the energy system model. When solving this model, the solver (often cbc) reads these equations and finds the solution with the lowest objective value."
   ]
  },
  {
   "cell_type": "code",
   "execution_count": 4,
   "metadata": {},
   "outputs": [],
   "source": [
    "model = solph.Model(energysystem)"
   ]
  },
  {
   "cell_type": "markdown",
   "metadata": {},
   "source": [
    "Now, the linear equations are stored into a file. "
   ]
  },
  {
   "cell_type": "code",
   "execution_count": 5,
   "metadata": {},
   "outputs": [
    {
     "name": "stdout",
     "output_type": "stream",
     "text": [
      "\\* Source Pyomo model name=Model *\\\n",
      "\n",
      "\n",
      "\n",
      "min \n",
      "\n",
      "objective:\n",
      "\n",
      "+10 flow(gas_source_electricity_0)\n",
      "\n",
      "+10 flow(gas_source_electricity_1)\n",
      "\n",
      "+10 flow(gas_source_electricity_2)\n",
      "\n",
      "+600 ONE_VAR_CONSTANT\n",
      "\n",
      "\n",
      "\n",
      "s.t.\n",
      "\n",
      "\n",
      "\n",
      "c_e_Bus_balance(gas_0)_:\n",
      "\n",
      "+1 flow(gas_pp_gas_0)\n",
      "\n",
      "= 0\n",
      "\n",
      "\n",
      "\n",
      "c_e_Bus_balance(gas_1)_:\n",
      "\n",
      "+1 flow(gas_pp_gas_1)\n",
      "\n",
      "= 0\n",
      "\n",
      "\n",
      "\n",
      "c_e_Bus_balance(gas_2)_:\n",
      "\n",
      "+1 flow(gas_pp_gas_2)\n",
      "\n",
      "= 0\n",
      "\n",
      "\n",
      "\n",
      "c_e_Transformer_relation(pp_gas_gas_electricity_0)_:\n",
      "\n",
      "+1 flow(gas_pp_gas_0)\n",
      "\n",
      "-1.7241379310344829 flow(pp_gas_electricity_0)\n",
      "\n",
      "= 0\n",
      "\n",
      "\n",
      "\n",
      "c_e_Transformer_relation(pp_gas_gas_electricity_1)_:\n",
      "\n",
      "+1 flow(gas_pp_gas_1)\n",
      "\n",
      "-1.7241379310344829 flow(pp_gas_electricity_1)\n",
      "\n",
      "= 0\n",
      "\n",
      "\n",
      "\n",
      "c_e_Transformer_relation(pp_gas_gas_electricity_2)_:\n",
      "\n",
      "+1 flow(gas_pp_gas_2)\n",
      "\n",
      "-1.7241379310344829 flow(pp_gas_electricity_2)\n",
      "\n",
      "= 0\n",
      "\n",
      "\n",
      "\n",
      "c_e_ONE_VAR_CONSTANT: \n",
      "\n",
      "ONE_VAR_CONSTANT = 1.0\n",
      "\n",
      "\n",
      "\n",
      "bounds\n",
      "\n",
      "   0 <= flow(gas_pp_gas_0) <= +inf\n",
      "\n",
      "   0 <= flow(gas_pp_gas_1) <= +inf\n",
      "\n",
      "   0 <= flow(gas_pp_gas_2) <= +inf\n",
      "\n",
      "   0 <= flow(gas_source_electricity_0) <= +inf\n",
      "\n",
      "   0 <= flow(gas_source_electricity_1) <= +inf\n",
      "\n",
      "   0 <= flow(gas_source_electricity_2) <= +inf\n",
      "\n",
      "   0 <= flow(pp_gas_electricity_0) <= 200\n",
      "\n",
      "   0 <= flow(pp_gas_electricity_1) <= 200\n",
      "\n",
      "   0 <= flow(pp_gas_electricity_2) <= 200\n",
      "\n",
      "end\n",
      "\n"
     ]
    }
   ],
   "source": [
    "model.write('./1_lp_file_oemof.lp', io_options={'symbolic_solver_labels': True})\n",
    "\n",
    "lp_file_text = open('./1_lp_file_oemof.lp')\n",
    "for line in lp_file_text:\n",
    "    print(line)"
   ]
  },
  {
   "cell_type": "markdown",
   "metadata": {},
   "source": [
    "Now, the emission constraint is added from the oemof library:"
   ]
  },
  {
   "cell_type": "code",
   "execution_count": 6,
   "metadata": {
    "scrolled": true
   },
   "outputs": [
    {
     "name": "stdout",
     "output_type": "stream",
     "text": [
      "\\* Source Pyomo model name=Model *\\\n",
      "\n",
      "\n",
      "\n",
      "min \n",
      "\n",
      "objective:\n",
      "\n",
      "+10 flow(gas_source_electricity_0)\n",
      "\n",
      "+10 flow(gas_source_electricity_1)\n",
      "\n",
      "+10 flow(gas_source_electricity_2)\n",
      "\n",
      "+600 ONE_VAR_CONSTANT\n",
      "\n",
      "\n",
      "\n",
      "s.t.\n",
      "\n",
      "\n",
      "\n",
      "c_u_emission_limit_:\n",
      "\n",
      "+0.20000000000000001 flow(gas_source_electricity_0)\n",
      "\n",
      "+0.20000000000000001 flow(gas_source_electricity_1)\n",
      "\n",
      "+0.20000000000000001 flow(gas_source_electricity_2)\n",
      "\n",
      "<= 99.400000000000006\n",
      "\n",
      "\n",
      "\n",
      "c_e_Bus_balance(gas_0)_:\n",
      "\n",
      "+1 flow(gas_pp_gas_0)\n",
      "\n",
      "= 0\n",
      "\n",
      "\n",
      "\n",
      "c_e_Bus_balance(gas_1)_:\n",
      "\n",
      "+1 flow(gas_pp_gas_1)\n",
      "\n",
      "= 0\n",
      "\n",
      "\n",
      "\n",
      "c_e_Bus_balance(gas_2)_:\n",
      "\n",
      "+1 flow(gas_pp_gas_2)\n",
      "\n",
      "= 0\n",
      "\n",
      "\n",
      "\n",
      "c_e_Transformer_relation(pp_gas_gas_electricity_0)_:\n",
      "\n",
      "+1 flow(gas_pp_gas_0)\n",
      "\n",
      "-1.7241379310344829 flow(pp_gas_electricity_0)\n",
      "\n",
      "= 0\n",
      "\n",
      "\n",
      "\n",
      "c_e_Transformer_relation(pp_gas_gas_electricity_1)_:\n",
      "\n",
      "+1 flow(gas_pp_gas_1)\n",
      "\n",
      "-1.7241379310344829 flow(pp_gas_electricity_1)\n",
      "\n",
      "= 0\n",
      "\n",
      "\n",
      "\n",
      "c_e_Transformer_relation(pp_gas_gas_electricity_2)_:\n",
      "\n",
      "+1 flow(gas_pp_gas_2)\n",
      "\n",
      "-1.7241379310344829 flow(pp_gas_electricity_2)\n",
      "\n",
      "= 0\n",
      "\n",
      "\n",
      "\n",
      "c_e_ONE_VAR_CONSTANT: \n",
      "\n",
      "ONE_VAR_CONSTANT = 1.0\n",
      "\n",
      "\n",
      "\n",
      "bounds\n",
      "\n",
      "   0 <= flow(gas_pp_gas_0) <= +inf\n",
      "\n",
      "   0 <= flow(gas_pp_gas_1) <= +inf\n",
      "\n",
      "   0 <= flow(gas_pp_gas_2) <= +inf\n",
      "\n",
      "   0 <= flow(gas_source_electricity_0) <= +inf\n",
      "\n",
      "   0 <= flow(gas_source_electricity_1) <= +inf\n",
      "\n",
      "   0 <= flow(gas_source_electricity_2) <= +inf\n",
      "\n",
      "   0 <= flow(pp_gas_electricity_0) <= 200\n",
      "\n",
      "   0 <= flow(pp_gas_electricity_1) <= 200\n",
      "\n",
      "   0 <= flow(pp_gas_electricity_2) <= 200\n",
      "\n",
      "end\n",
      "\n"
     ]
    }
   ],
   "source": [
    "constraints.emission_limit(model, limit=100)\n",
    "\n",
    "model.write('./1_lp_file_oemof_emission_constraint.lp', io_options={'symbolic_solver_labels': True})\n",
    "\n",
    "lp_file_text = open('./1_lp_file_oemof_emission_constraint.lp')\n",
    "for line in lp_file_text:\n",
    "    print(line)"
   ]
  },
  {
   "cell_type": "code",
   "execution_count": 7,
   "metadata": {},
   "outputs": [
    {
     "name": "stdout",
     "output_type": "stream",
     "text": [
      "total_emissions : Size=1, Index=None\n",
      "    Key  : Expression\n",
      "    None : 0.01*flow[biomass,electricity,0] + 0.01*flow[biomass,electricity,1] + 0.01*flow[biomass,electricity,2] + 0.2*flow[gas-source,electricity,0] + 0.2*flow[gas-source,electricity,1] + 0.2*flow[gas-source,electricity,2]\n"
     ]
    },
    {
     "data": {
      "text/plain": [
       "{'Problem': [{'Name': 'unknown', 'Lower bound': 600.0, 'Upper bound': 600.0, 'Number of objectives': 1, 'Number of constraints': 8, 'Number of variables': 10, 'Number of nonzeros': 0, 'Sense': 'minimize'}], 'Solver': [{'Status': 'ok', 'User time': -1.0, 'System time': 0.0, 'Wallclock time': 0.0, 'Termination condition': 'optimal', 'Termination message': 'Model was solved to optimality (subject to tolerances), and an optimal solution is available.', 'Statistics': {'Branch and bound': {'Number of bounded subproblems': None, 'Number of created subproblems': None}, 'Black box': {'Number of iterations': 0}}, 'Error rc': 0, 'Time': 0.029686927795410156}], 'Solution': [OrderedDict([('number of solutions', 0), ('number of solutions displayed', 0)])]}"
      ]
     },
     "execution_count": 7,
     "metadata": {},
     "output_type": "execute_result"
    }
   ],
   "source": [
    "model.total_emissions.pprint()\n",
    "\n",
    "model.solve()"
   ]
  },
  {
   "cell_type": "markdown",
   "metadata": {},
   "source": [
    "Testing whether constraint was fullfilled:"
   ]
  },
  {
   "cell_type": "code",
   "execution_count": 8,
   "metadata": {},
   "outputs": [
    {
     "name": "stdout",
     "output_type": "stream",
     "text": [
      "0.6000000000000001\n"
     ]
    }
   ],
   "source": [
    "print(model.total_emissions())"
   ]
  },
  {
   "cell_type": "code",
   "execution_count": null,
   "metadata": {},
   "outputs": [],
   "source": []
  }
 ],
 "metadata": {
  "kernelspec": {
   "display_name": "Python 3",
   "language": "python",
   "name": "python3"
  },
  "language_info": {
   "codemirror_mode": {
    "name": "ipython",
    "version": 3
   },
   "file_extension": ".py",
   "mimetype": "text/x-python",
   "name": "python",
   "nbconvert_exporter": "python",
   "pygments_lexer": "ipython3",
   "version": "3.6.8"
  }
 },
 "nbformat": 4,
 "nbformat_minor": 2
}
