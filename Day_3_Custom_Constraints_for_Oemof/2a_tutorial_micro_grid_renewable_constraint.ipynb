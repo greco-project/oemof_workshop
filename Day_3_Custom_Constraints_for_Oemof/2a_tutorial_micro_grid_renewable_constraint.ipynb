{
 "cells": [
  {
   "cell_type": "markdown",
   "metadata": {},
   "source": [
    "# Building a micro grid system with a renewable share constraint\n",
    "The generation of the micro grid energy system is described in yesterday's tutorial \"2_tutorial_micro_grid.ipynb\"."
   ]
  },
  {
   "cell_type": "markdown",
   "metadata": {},
   "source": [
    "Even when adding a customized constraint to an oemof model, the initial model building is identical. To ease future programming, a logger can be used:"
   ]
  },
  {
   "cell_type": "code",
   "execution_count": 1,
   "metadata": {},
   "outputs": [
    {
     "name": "stdout",
     "output_type": "stream",
     "text": [
      "01:57:53-INFO-Path for logging: /home/mh/.oemof/log_files/oemof.log\n",
      "01:57:53-INFO-Used oemof version: 0.3.1\n",
      "01:57:55-INFO-Loading timeseries\n",
      "01:57:55-INFO-Defining costs\n",
      "\n",
      "\n",
      "01:57:55-INFO-DEFINITION OF OEMOF MODEL:\n",
      "01:57:55-INFO-Electricity bus\n",
      "01:57:55-INFO-Demand, fixed timeseries\n",
      "01:57:55-INFO-Excess sink\n",
      "01:57:55-INFO-Wind plant with fixed feed-in timeseries\n",
      "01:57:55-INFO-PV plant with fixed feed-in timeseries\n",
      "01:57:55-INFO-Diesel fuel bus, source and transformer\n",
      "01:57:55-INFO-Battery storage\n",
      "\n",
      "\n",
      "01:57:55-INFO-Initializing model\n"
     ]
    },
    {
     "data": {
      "text/plain": [
       "('./2_lp_file_micro_grid_no_constraint.lp', 139852041634368)"
      ]
     },
     "execution_count": 1,
     "metadata": {},
     "output_type": "execute_result"
    }
   ],
   "source": [
    "import os\n",
    "import pandas as pd\n",
    "\n",
    "from oemof.tools import logger\n",
    "import logging\n",
    "\n",
    "logger.define_logging(screen_level=logging.INFO) #screen_level=logging.DEBUG\n",
    "\n",
    "from matplotlib import pyplot as plt\n",
    "\n",
    "import oemof.outputlib as outputlib\n",
    "import oemof.solph as solph\n",
    "from oemof.tools import economics\n",
    "\n",
    "\n",
    "timeindex = pd.date_range('1/1/2017', periods=8760, freq='H')\n",
    "\n",
    "energysystem = solph.EnergySystem(timeindex=timeindex)\n",
    "\n",
    "logging.info('Loading timeseries')\n",
    "full_filename = '2_timeseries.csv'\n",
    "timeseries = pd.read_csv(full_filename, sep=',')\n",
    "\n",
    "logging.info('Defining costs')\n",
    "\n",
    "fuel_price_kWh = 0.05 # fuel price in currency/kWh\n",
    "\n",
    "costs = {'pp_wind': {\n",
    "             'epc': economics.annuity(capex=1500, n=20, wacc=0.05)},\n",
    "         'pp_pv': {\n",
    "             'epc': economics.annuity(capex=750, n=20, wacc=0.05)},\n",
    "         'pp_diesel': {\n",
    "             'epc': economics.annuity(capex=300, n=10, wacc=0.05),\n",
    "             'var': 0},\n",
    "         'storage': {\n",
    "             'epc': economics.annuity(capex=300, n=5, wacc=0.05),\n",
    "             'var': 0}}\n",
    "\n",
    "print('\\n')\n",
    "logging.info('DEFINITION OF OEMOF MODEL:')\n",
    "\n",
    "logging.info('Electricity bus')\n",
    "bel = solph.Bus(label='electricity_bus')\n",
    "energysystem.add(bel)\n",
    "\n",
    "logging.info('Demand, fixed timeseries')\n",
    "demand_sink = solph.Sink(label='demand_el',\n",
    "                         inputs={bel: solph.Flow(actual_value=timeseries['demand_el'],\n",
    "                                                 fixed=True,\n",
    "                                                 nominal_value=500)})\n",
    "energysystem.add(demand_sink)\n",
    "\n",
    "logging.info('Excess sink')\n",
    "excess_sink = solph.Sink(label='excess',\n",
    "                    inputs={bel: solph.Flow()})\n",
    "energysystem.add(excess_sink)\n",
    "\n",
    "logging.info('Wind plant with fixed feed-in timeseries')\n",
    "wind_plant = solph.Source(label='pp_wind',\n",
    "                          outputs={\n",
    "                              bel: solph.Flow(nominal_value=None,\n",
    "                                              fixed=True,\n",
    "                                              actual_value=timeseries['wind'],\n",
    "                                              investment=solph.Investment(\n",
    "                                                  ep_costs=costs['pp_wind']['epc']))})\n",
    "energysystem.add(wind_plant)\n",
    "\n",
    "logging.info('PV plant with fixed feed-in timeseries')\n",
    "pv_plant = solph.Source(label='pp_pv',\n",
    "                        outputs={\n",
    "                            bel: solph.Flow(nominal_value=None,\n",
    "                                            fixed=True,\n",
    "                                            actual_value=timeseries['pv'],\n",
    "                                            investment=solph.Investment(\n",
    "                                                ep_costs=costs['pp_wind']['epc']))})\n",
    "\n",
    "energysystem.add(pv_plant)\n",
    "\n",
    "logging.info('Diesel fuel bus, source and transformer')\n",
    "bfuel = solph.Bus(label='fuel_bus')\n",
    "\n",
    "fuel_source = solph.Source(label='diesel',\n",
    "       outputs={\n",
    "           bfuel: solph.Flow(nominal_value=None,\n",
    "                     variable_costs=fuel_price_kWh,\n",
    "                     )}\n",
    "       )\n",
    "\n",
    "genset = solph.Transformer(label=\"transformer_genset\",\n",
    "                           inputs={bfuel: solph.Flow()},\n",
    "                           outputs={bel: solph.Flow(\n",
    "                               variable_costs=costs['pp_diesel']['var'],\n",
    "                               investment=solph.Investment(\n",
    "                                   ep_costs=costs['pp_diesel']['epc']))},\n",
    "                           conversion_factors={bel: 0.33}\n",
    "                           )\n",
    "\n",
    "energysystem.add(bfuel, fuel_source, genset)\n",
    "\n",
    "logging.info('Battery storage')\n",
    "storage = solph.components.GenericStorage(\n",
    "    label='storage',\n",
    "    inputs={\n",
    "        bel: solph.Flow()},\n",
    "    outputs={\n",
    "        bel: solph.Flow()},\n",
    "    loss_rate=0.00,\n",
    "    initial_storage_level=0.5, # or None\n",
    "    invest_relation_input_capacity=1/5,\n",
    "    invest_relation_output_capacity=1,\n",
    "    inflow_conversion_factor=0.95,\n",
    "    outflow_conversion_factor=0.95,\n",
    "    investment=solph.Investment(ep_costs=costs['storage']['epc']))\n",
    "\n",
    "energysystem.add(storage)\n",
    "\n",
    "print('\\n')\n",
    "logging.info('Initializing model')\n",
    "model = solph.Model(energysystem)\n",
    "\n",
    "model.write('./2_lp_file_micro_grid_no_constraint.lp', io_options={'symbolic_solver_labels': True})"
   ]
  },
  {
   "cell_type": "markdown",
   "metadata": {},
   "source": [
    "Instead of solving the model, an own constraint can now be added. For that, a function describing the renewable share criterion has to be defined. It uses the pyomo library."
   ]
  },
  {
   "cell_type": "code",
   "execution_count": 2,
   "metadata": {},
   "outputs": [],
   "source": [
    "import pyomo.environ as po\n",
    "\n",
    "def renewable_share_criterion(model, genset, pv_plant, wind_plant, bel, min_renewable_share):\n",
    "    def renewable_share_rule(model):  \n",
    "        total_renewable_generation =  sum(model.flow[pv_plant, bel, :])\n",
    "        total_renewable_generation +=  sum(model.flow[wind_plant, bel, :])\n",
    "        total_generation = total_renewable_generation \n",
    "        total_generation += sum(model.flow[genset, bel, :])\n",
    "            \n",
    "        expr = total_renewable_generation - total_generation * min_renewable_share\n",
    "        return expr >= 0\n",
    "\n",
    "    model.renewable_share_constraint = po.Constraint(rule=renewable_share_rule)\n",
    "\n",
    "    return model"
   ]
  },
  {
   "cell_type": "markdown",
   "metadata": {},
   "source": [
    "Call function renewable_share_constraint. With \"po.Constraint\" the constraint is added to the linear equation system generated by pyomo. Save to lp file to check constraint:"
   ]
  },
  {
   "cell_type": "code",
   "execution_count": 3,
   "metadata": {},
   "outputs": [
    {
     "data": {
      "text/plain": [
       "('./2_lp_file_micro_grid_renewable_constraint.lp', 139853065365096)"
      ]
     },
     "execution_count": 3,
     "metadata": {},
     "output_type": "execute_result"
    }
   ],
   "source": [
    "min_renewable_share = 0.1\n",
    "renewable_share_criterion(model, genset, pv_plant, wind_plant, bel, min_renewable_share)\n",
    "model.write('./2_lp_file_micro_grid_renewable_constraint.lp', io_options={'symbolic_solver_labels': True})"
   ]
  },
  {
   "cell_type": "code",
   "execution_count": 4,
   "metadata": {},
   "outputs": [
    {
     "name": "stdout",
     "output_type": "stream",
     "text": [
      "01:58:09-INFO-Starting oemof-optimization of capacities\n",
      "01:58:31-INFO-Optimization successful...\n",
      "01:58:31-INFO-Processing results\n"
     ]
    }
   ],
   "source": [
    "logging.info('Starting oemof-optimization of capacities')\n",
    "model.solve(solver='cbc', solve_kwargs={'tee': False})\n",
    "\n",
    "logging.info('Processing results')\n",
    "results = outputlib.processing.results(model)"
   ]
  },
  {
   "cell_type": "code",
   "execution_count": 5,
   "metadata": {},
   "outputs": [
    {
     "name": "stdout",
     "output_type": "stream",
     "text": [
      "01:58:32-INFO-Get optimized capacities\n",
      "01:58:32-INFO-Capacities optimized: Storage (0.0), Wind (1047.2029), PV (203.30226), Genset (444.41607).\n"
     ]
    }
   ],
   "source": [
    "logging.info('Get optimized capacities')\n",
    "el_bus = outputlib.views.node(results, 'electricity_bus')\n",
    "cap_wind = el_bus['scalars'][(('pp_wind', 'electricity_bus'), 'invest')]\n",
    "cap_pv = el_bus['scalars'][(('pp_pv', 'electricity_bus'), 'invest')]\n",
    "cap_genset = el_bus['scalars'][(('transformer_genset', 'electricity_bus'), 'invest')]\n",
    "\n",
    "storage_bus = outputlib.views.node(results, 'storage')\n",
    "cap_storage = storage_bus['scalars'][(('storage','None'), 'invest')]\n",
    "\n",
    "logging.info('Capacities optimized: Storage (' + str(cap_storage)\n",
    "             + '), Wind (' + str(cap_wind)\n",
    "             + '), PV (' + str(cap_pv)\n",
    "             + '), Genset (' + str(cap_genset) + ').')"
   ]
  },
  {
   "cell_type": "code",
   "execution_count": 6,
   "metadata": {},
   "outputs": [
    {
     "name": "stdout",
     "output_type": "stream",
     "text": [
      "01:58:32-INFO-Plot flows on electricity bus\n"
     ]
    },
    {
     "data": {
      "text/plain": [
       "<matplotlib.axes._subplots.AxesSubplot at 0x7f31f9d0acf8>"
      ]
     },
     "execution_count": 6,
     "metadata": {},
     "output_type": "execute_result"
    },
    {
     "data": {
      "image/png": "[encoded data removed]",
      "text/plain": [
       "<Figure size 432x288 with 1 Axes>"
      ]
     },
     "metadata": {
      "needs_background": "light"
     },
     "output_type": "display_data"
    }
   ],
   "source": [
    "logging.info('Plot flows on electricity bus')\n",
    "outputlib.views.node(results, 'electricity_bus')['sequences'].plot(drawstyle='steps')"
   ]
  },
  {
   "cell_type": "markdown",
   "metadata": {},
   "source": [
    "Check whether constraint is fullfilled by calculating renewable share:"
   ]
  },
  {
   "cell_type": "code",
   "execution_count": 7,
   "metadata": {},
   "outputs": [
    {
     "name": "stdout",
     "output_type": "stream",
     "text": [
      "Constraint fullfilled, renewable share at 70.5%.\n"
     ]
    }
   ],
   "source": [
    "renewable_generation = sum(el_bus['sequences'][(('pp_wind', 'electricity_bus'), 'flow')])\n",
    "renewable_generation += sum(el_bus['sequences'][(('pp_pv', 'electricity_bus'), 'flow')]) \n",
    "total_generation = renewable_generation + sum(el_bus['sequences'][(('transformer_genset', 'electricity_bus'), 'flow')]) \n",
    "\n",
    "renewable_share = renewable_generation/total_generation\n",
    "\n",
    "if  renewable_share >= min_renewable_share:\n",
    "    print('Constraint fullfilled, renewable share at ' + str(round(renewable_share*100, 1)) + '%.')\n",
    "else:\n",
    "    print('Constraint failed, renewable share at ' + str(round(renewable_share*100, 1)) + '%.')\n",
    "            \n",
    "        "
   ]
  },
  {
   "cell_type": "code",
   "execution_count": 8,
   "metadata": {},
   "outputs": [
    {
     "data": {
      "text/plain": [
       "((electricity_bus, demand_el), flow)             2.989218e+06\n",
       "((electricity_bus, excess), flow)                5.812174e+05\n",
       "((electricity_bus, storage), flow)               0.000000e+00\n",
       "((pp_pv, electricity_bus), flow)                 2.390734e+05\n",
       "((pp_wind, electricity_bus), flow)               2.279432e+06\n",
       "((storage, electricity_bus), flow)               0.000000e+00\n",
       "((transformer_genset, electricity_bus), flow)    1.051930e+06\n",
       "dtype: float64"
      ]
     },
     "execution_count": 8,
     "metadata": {},
     "output_type": "execute_result"
    }
   ],
   "source": [
    "el_bus['sequences'].sum(axis=0)"
   ]
  },
  {
   "cell_type": "code",
   "execution_count": null,
   "metadata": {},
   "outputs": [],
   "source": []
  }
 ],
 "metadata": {
  "kernelspec": {
   "display_name": "Python 3",
   "language": "python",
   "name": "python3"
  },
  "language_info": {
   "codemirror_mode": {
    "name": "ipython",
    "version": 3
   },
   "file_extension": ".py",
   "mimetype": "text/x-python",
   "name": "python",
   "nbconvert_exporter": "python",
   "pygments_lexer": "ipython3",
   "version": "3.6.8"
  }
 },
 "nbformat": 4,
 "nbformat_minor": 2
}
